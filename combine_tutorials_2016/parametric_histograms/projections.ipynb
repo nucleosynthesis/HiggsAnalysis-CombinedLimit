{
 "cells": [
  {
   "cell_type": "code",
   "execution_count": null,
   "metadata": {
    "collapsed": false
   },
   "outputs": [],
   "source": [
    "%%bash\n",
    "source ../../env_standalone.sh\n",
    "text2workspace.py combined_card.txt --X-nuisance-function '.*' 'expr::lumisyst(\"1/sqrt(@0)\",luminosity[1])' -v 3 -o all_scaled.root"
   ]
  },
  {
   "cell_type": "code",
   "execution_count": null,
   "metadata": {
    "collapsed": false
   },
   "outputs": [],
   "source": [
    "import ROOT\n",
    "%jsroot on\n",
    "\n",
    "fi_alls = ROOT.TFile.Open(\"lims_all_scaled.root\")\n",
    "tr_alls = fi_alls.Get(\"limit\")\n",
    "tr_alls.Scan(\"limit:trackedParam_luminosity\",\"quantileExpected==0.5\")"
   ]
  },
  {
   "cell_type": "code",
   "execution_count": null,
   "metadata": {
    "collapsed": false
   },
   "outputs": [],
   "source": [
    "c = ROOT.TCanvas()\n",
    "tr_alls.Draw(\"limit:trackedParam_luminosity\",\"quantileExpected==0.5\",\"P\")\n",
    "gr = c.FindObject(\"Graph\").Clone()\n",
    "gr.SetName(\"all_sys\")\n",
    "gr.SetMarkerSize(1.4)\n",
    "gr.SetMarkerStyle(25)\n",
    "gr.SetMarkerColor(4)"
   ]
  },
  {
   "cell_type": "code",
   "execution_count": null,
   "metadata": {
    "collapsed": false
   },
   "outputs": [],
   "source": [
    "func = ROOT.TF1(\"lumiscaling\",\"%f/TMath::Sqrt(x)\"%gr.Eval(1),1,100)\n",
    "grf = ROOT.TGraph()\n",
    "print func.Eval(20)\n",
    "print gr.Eval(20)\n"
   ]
  },
  {
   "cell_type": "code",
   "execution_count": null,
   "metadata": {
    "collapsed": false
   },
   "outputs": [],
   "source": [
    "for x in range(1,100,1): grf.SetPoint(x-1,x,func.Eval(x))\n",
    "\n",
    "c = ROOT.TCanvas()\n",
    "gr.Draw(\"ap\")\n",
    "grf.Draw(\"lsame\")\n",
    "c.Draw()\n",
    "\n"
   ]
  },
  {
   "cell_type": "code",
   "execution_count": null,
   "metadata": {
    "collapsed": true
   },
   "outputs": [],
   "source": []
  }
 ],
 "metadata": {
  "kernelspec": {
   "display_name": "Python 2",
   "language": "python",
   "name": "python2"
  },
  "language_info": {
   "codemirror_mode": {
    "name": "ipython",
    "version": 2
   },
   "file_extension": ".py",
   "mimetype": "text/x-python",
   "name": "python",
   "nbconvert_exporter": "python",
   "pygments_lexer": "ipython2",
   "version": "2.7.10"
  }
 },
 "nbformat": 4,
 "nbformat_minor": 1
}
