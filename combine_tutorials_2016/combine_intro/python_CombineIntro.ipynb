{
 "cells": [
  {
   "cell_type": "markdown",
   "metadata": {},
   "source": [
    "![alt text](combtut.png \"Title\")"
   ]
  },
  {
   "cell_type": "markdown",
   "metadata": {},
   "source": [
    "<b>Combine</b> is a RooStats based command line tool which executes different statistical methods (compute limits/significance, make fits, etc.)\n",
    "\n",
    "Internally, there are two main components\n",
    "\n",
    "1) text2workspace: a python module which converts a textual datacard into a RooStats model (“workspace”)\n",
    "Datacards can also be used to load user created workspaces\n",
    "\n",
    "2) C++ code which is responsible for the statistical methods\n",
    "Highly customizable: anything which is possible in RooStats is possible in the Combine package\n",
    "Supported by a HIG PAG Subgroup: Hcomb \n",
    "\n",
    "You can find a lot more information in the following [twiki](https://twiki.cern.ch/twiki/bin/view/CMS/SWGuideHiggsAnalysisCombinedLimit)\n",
    "\n",
    "If you can't find the answer there then email <b>hn-cms-higgs-combination@cern.ch</b> (most likely a very familiar person will respond!)"
   ]
  },
  {
   "cell_type": "code",
   "execution_count": null,
   "metadata": {
    "collapsed": false
   },
   "outputs": [],
   "source": [
    "import ROOT\n",
    "import os\n",
    "%jsroot on\n",
    "ROOT.gSystem.Load(\"/cvmfs/sft.cern.ch/lcg/releases/LCG_85swan3/vdt/0.3.6/x86_64-slc6-gcc49-opt/lib/libvdt.so\")\n",
    "ROOT.gSystem.Load(\"../../lib/libHiggsAnalysisCombinedLimit.so\")\n",
    "\n",
    "# Setup python \n",
    "# import CMS tdrStyle\n",
    "from tdrStyle import *\n",
    "setTDRStyle()\n",
    "\n",
    "# import some more python modules\n",
    "import sys,glob\n",
    "from array import array"
   ]
  },
  {
   "cell_type": "markdown",
   "metadata": {},
   "source": [
    "# Simple Counting Experiment"
   ]
  },
  {
   "cell_type": "markdown",
   "metadata": {},
   "source": [
    "Lets understand the simplest posssible datacard:"
   ]
  },
  {
   "cell_type": "code",
   "execution_count": null,
   "metadata": {
    "collapsed": false
   },
   "outputs": [],
   "source": [
    "os.system('cat simple-counting-experiment.txt')"
   ]
  },
  {
   "cell_type": "markdown",
   "metadata": {},
   "source": [
    "This datacard has just one channel with just one signal and one background, and two nuisance parameters. It is easy to understand how combine reconstructs the likelihood function from this datacard.\n",
    "\n",
    "The combine tool converts datacards into a RooWorkspace to build the likelihood. You can run \"text2workspace.py simple-counting-experiment.txt\" and you should end up with a file called simple-counting-experiment.root, or you can use the one which already produced. Lets run this..."
   ]
  },
  {
   "cell_type": "code",
   "execution_count": null,
   "metadata": {
    "collapsed": false
   },
   "outputs": [],
   "source": [
    "%%bash\n",
    "\n",
    "source ../../env_standalone.sh\n",
    "text2workspace.py simple-counting-experiment.txt"
   ]
  },
  {
   "cell_type": "markdown",
   "metadata": {},
   "source": [
    "## From Datacard to Likelihood\n",
    "\n",
    "This text file provides the input we need to build a simple likelihood, which is usually of the form \n",
    "\n",
    "![alt text](lhood.png)"
   ]
  },
  {
   "cell_type": "code",
   "execution_count": null,
   "metadata": {
    "collapsed": false
   },
   "outputs": [],
   "source": [
    "f_simple = ROOT.TFile(\"simple-counting-experiment.root\",\"READ\")\n",
    "w_simple = f_simple.Get(\"w\")\n",
    "w_simple.Print()"
   ]
  },
  {
   "cell_type": "markdown",
   "metadata": {},
   "source": [
    "By expanding out the \"model_s\" pdf, it is easy to see that it follows the generic definition of a likelihood function.\n",
    "\n",
    "![alt text](lhood_code.png)"
   ]
  },
  {
   "cell_type": "markdown",
   "metadata": {},
   "source": [
    "# Shape Experiment with Templates"
   ]
  },
  {
   "cell_type": "markdown",
   "metadata": {},
   "source": [
    "Lets look at a datcard which uses binned histograms for the observable. Each bin of the histogram can just be thought of as a separate channel in a counting experiment."
   ]
  },
  {
   "cell_type": "code",
   "execution_count": null,
   "metadata": {
    "collapsed": false
   },
   "outputs": [],
   "source": [
    "os.system('cat simple-shapes-TH1.txt')"
   ]
  },
  {
   "cell_type": "markdown",
   "metadata": {},
   "source": [
    "There is a new line compared to a counting experiment, one that starts with \"shapes\". Lets open that file and see what is inside."
   ]
  },
  {
   "cell_type": "code",
   "execution_count": null,
   "metadata": {
    "collapsed": false
   },
   "outputs": [],
   "source": [
    "f_input_shapes_TH1 = ROOT.TFile(\"input-shapes-TH1.root\",\"READ\")\n",
    "f_input_shapes_TH1.ls()"
   ]
  },
  {
   "cell_type": "markdown",
   "metadata": {},
   "source": [
    "This file contains 1D histograms for the signal, background, and observed data. Also, there are different histograms corresponding to different values of the nuisance parameters. Lets inspect those histograms for the background."
   ]
  },
  {
   "cell_type": "code",
   "execution_count": null,
   "metadata": {
    "collapsed": false
   },
   "outputs": [],
   "source": [
    "h_background = f_input_shapes_TH1.Get(\"background\")\n",
    "h_background.SetLineColor(1)\n",
    "\n",
    "h_background_alphaUp = f_input_shapes_TH1.Get(\"background_alphaUp\")\n",
    "h_background_alphaUp.SetLineColor(2)\n",
    "\n",
    "h_background_alphaDown = f_input_shapes_TH1.Get(\"background_alphaDown\")\n",
    "h_background_alphaDown.SetLineColor(4)\n",
    "\n",
    "c = ROOT.TCanvas()\n",
    "h_background_alphaDown.Draw()\n",
    "h_background.Draw(\"same\")\n",
    "h_background_alphaUp.Draw(\"same\")\n",
    "\n",
    "c.Draw()"
   ]
  },
  {
   "cell_type": "markdown",
   "metadata": {},
   "source": [
    "As you can see the shape of the histograms are different for the Up/Down variations of the nuisance parameter alpha. Also, the normalization of the histograms are also different, which means this nuisance affects both the shape and rate of the background process:"
   ]
  },
  {
   "cell_type": "code",
   "execution_count": null,
   "metadata": {
    "collapsed": false
   },
   "outputs": [],
   "source": [
    "print \"central = %g, alpha up = %g, alpha down = %g\"%(h_background.Integral(), h_background_alphaUp.Integral(), h_background_alphaDown.Integral())"
   ]
  },
  {
   "cell_type": "markdown",
   "metadata": {},
   "source": [
    "Lets now convert to a RooWorkspace. Again, you can run \"text2workspace.py simple-shapes-TH1.txt\" in the terminal, or use the already created simple-shapes-TH1.root file. Lets open it and print the contents of the workspace:"
   ]
  },
  {
   "cell_type": "code",
   "execution_count": null,
   "metadata": {
    "collapsed": false
   },
   "outputs": [],
   "source": [
    "f_shapes_TH1 = ROOT.TFile(\"simple-shapes-TH1.root\",\"READ\")\n",
    "w_shapes_TH1 = f_shapes_TH1.Get(\"w\")\n",
    "w_shapes_TH1.Print()"
   ]
  },
  {
   "cell_type": "markdown",
   "metadata": {},
   "source": [
    "As you can see, the workspace contains \"model_s\" i.e. the likelihood function, which is composed of the observable \"CMS_th1x\" which is split in several channels, the POI \"r\" and several nuisance parameters. Lets see how combine smoothly morphs the shape of the background as a function of the nuisance parameter alpha:"
   ]
  },
  {
   "cell_type": "code",
   "execution_count": null,
   "metadata": {
    "collapsed": false
   },
   "outputs": [],
   "source": [
    "shapeBkg = w_shapes_TH1.pdf(\"shapeBkg_bin1_background_morph\")\n",
    "th1x = w_shapes_TH1.var(\"CMS_th1x\")\n",
    "plot_th1x = th1x.frame()\n",
    "alpha = w_shapes_TH1.var(\"alpha\")\n",
    "alpha.setVal(0.0)\n",
    "shapeBkg.plotOn(plot_th1x,ROOT.RooFit.LineColor(1))\n",
    "alpha.setVal(0.5)\n",
    "shapeBkg.plotOn(plot_th1x,ROOT.RooFit.LineColor(3))\n",
    "alpha.setVal(1.0)\n",
    "shapeBkg.plotOn(plot_th1x,ROOT.RooFit.LineColor(2))\n",
    "alpha.setVal(2.0)\n",
    "shapeBkg.plotOn(plot_th1x,ROOT.RooFit.LineColor(6))\n",
    "\n",
    "c2 = ROOT.TCanvas()\n",
    "plot_th1x.Draw()\n",
    "c2.Draw()"
   ]
  },
  {
   "cell_type": "markdown",
   "metadata": {},
   "source": [
    "As you can see the shape at alpha=1.0 is the same as the input histogram. In addition there is now a shape for any value of the nuisance parameter alpha.\n",
    "\n",
    "<b><span style=\"color:red\">Q: What about other systematics in the workspace? Try to plot different values of other nuisances and see how the shapes change) </span></b>"
   ]
  },
  {
   "cell_type": "markdown",
   "metadata": {},
   "source": [
    "# Parametric Shape Experiment"
   ]
  },
  {
   "cell_type": "markdown",
   "metadata": {},
   "source": [
    "Lets now look at a shape experiment where the shapes are described by PDF's instead of templates. We will consider a realistic example from the CMS search for H->gamma gamma at 8 TeV. Lets first look at the datacard:"
   ]
  },
  {
   "cell_type": "code",
   "execution_count": null,
   "metadata": {
    "collapsed": false
   },
   "outputs": [],
   "source": [
    "os.system('cat hgg_8TeV_MVA_cat0145.txt')"
   ]
  },
  {
   "cell_type": "markdown",
   "metadata": {},
   "source": [
    "This is a combination of different categories (types) of events. You can write a single data card for each of these categories and then \"combine\" them with \n",
    "\n",
    "`combineCards cat1=card1.txt cat2=card2.txt cat3=card3.txt ... > combined_card.txt`\n",
    "\n",
    "where the `cat1=` will name that category <b>cat1</b> inside the combined card. This is optional and the default will be just to name each card <b>chX</b> for X sequentially increasing from 1.\n",
    "\n",
    "This has the effect of producing a combined likelihood essentially ... \n",
    "\n",
    "![alt text] (comblh.png)\n",
    "\n",
    "Any nuisance parameters which are named the same in more than 1 card will be treated as the *same* parameter rather than being copied meaning that parameter is *correlated* between the categoris. \n",
    "\n",
    "As you can see there are a lot of nuisance parameters and channels, typical of a realistic analysis. Lets just focus in on the \"shapes\" line. You can see the syntax is a bit different. For a parametric shape analysis, the shapes are RooAbsPdf stored in RooWorkspaces. \n",
    "\n",
    "Lets look at the background shape. First we can plot the observed data in the \"cat0\" channel and plot the background only shape."
   ]
  },
  {
   "cell_type": "code",
   "execution_count": null,
   "metadata": {
    "collapsed": false
   },
   "outputs": [],
   "source": [
    "f_hgg_bkgdata = ROOT.TFile(\"hgg.inputbkgdata_8TeV_MVA.root\",\"READ\")\n",
    "w_hgg_bkgdata = f_hgg_bkgdata.Get(\"cms_hgg_workspace\")\n",
    "\n",
    "CMS_hgg_mass = w_hgg_bkgdata.var(\"CMS_hgg_mass\")\n",
    "hgg_plot_cat0 = CMS_hgg_mass.frame()\n",
    "\n",
    "data_cat0 = w_hgg_bkgdata.data(\"roohist_data_mass_cat0\")\n",
    "data_cat0.plotOn(hgg_plot_cat0)\n",
    "\n",
    "pdf_bkg_cat0 = w_hgg_bkgdata.pdf(\"pdf_data_pol_model_8TeV_cat0\")\n",
    "pdf_bkg_cat0.plotOn(hgg_plot_cat0)\n",
    "\n",
    "c3 = ROOT.TCanvas()\n",
    "hgg_plot_cat0.Draw()\n",
    "c3.Draw()"
   ]
  },
  {
   "cell_type": "markdown",
   "metadata": {},
   "source": [
    "In this datacard the dataset is a binned dataset and the background shape is a smooth pdf. The observed dataset could also be unbinned. \n",
    "\n",
    "Lets now look at the signal shapes. First we convert the datacard to a workspace (\"text2workspace.py hgg_8TeV_MVA_cat0145.txt\"):"
   ]
  },
  {
   "cell_type": "code",
   "execution_count": null,
   "metadata": {
    "collapsed": false
   },
   "outputs": [],
   "source": [
    "f_hgg = ROOT.TFile(\"hgg_8TeV_MVA_cat0145.root\",\"READ\")\n",
    "w_hgg = f_hgg.Get(\"w\")\n",
    "#w_hgg.Print()"
   ]
  },
  {
   "cell_type": "markdown",
   "metadata": {},
   "source": [
    "You can print the workspace to see what is inside, but it is quite long. If you do, you will see that the shape of the ggH signal in cat0 is called \"shapeSig_ggH_cat0\". Lets see what parameters it depends on:"
   ]
  },
  {
   "cell_type": "code",
   "execution_count": null,
   "metadata": {
    "collapsed": false
   },
   "outputs": [],
   "source": [
    "data_obs = w_hgg.data(\"data_obs\")\n",
    "data_obs.Print()\n",
    "\n",
    "pdf_ggH = w_hgg.pdf(\"shapeSig_ggH_cat0\")\n",
    "ggH_params = pdf_ggH.getParameters(data_obs)\n",
    "ggH_params.Print()"
   ]
  },
  {
   "cell_type": "markdown",
   "metadata": {},
   "source": [
    "As you can see, the observable is called \"CMS_hgg_mass\" and the shape of the ggH signal depends on some nuisance parameters as well as MH. Lets draw the ggH PDF for different values of MH and the nuisance parameter \"CMS_hgg_globalscale\"."
   ]
  },
  {
   "cell_type": "code",
   "execution_count": null,
   "metadata": {
    "collapsed": false,
    "scrolled": true
   },
   "outputs": [],
   "source": [
    "\n",
    "CMS_hgg_mass = w_hgg.var(\"CMS_hgg_mass\")\n",
    "hgg_plot_sig = CMS_hgg_mass.frame()\n",
    "w_hgg.var(\"MH\").setVal(122.0)\n",
    "pdf_ggH.plotOn(hgg_plot_sig,ROOT.RooFit.LineColor(2))\n",
    "w_hgg.var(\"MH\").setVal(125.0)\n",
    "pdf_ggH.plotOn(hgg_plot_sig,ROOT.RooFit.LineColor(1))\n",
    "w_hgg.var(\"MH\").setVal(128.0)\n",
    "pdf_ggH.plotOn(hgg_plot_sig,ROOT.RooFit.LineColor(4))\n",
    "\n",
    "w_hgg.var(\"MH\").setVal(125.0)\n",
    "w_hgg.var(\"CMS_hgg_globalscale\").setVal(0.023585)\n",
    "pdf_ggH.plotOn(hgg_plot_sig,ROOT.RooFit.LineColor(1),ROOT.RooFit.LineStyle(2))\n",
    "w_hgg.var(\"CMS_hgg_globalscale\").setVal(-0.023585)\n",
    "pdf_ggH.plotOn(hgg_plot_sig,ROOT.RooFit.LineColor(1),ROOT.RooFit.LineStyle(3))\n",
    "\n",
    "c4 = ROOT.TCanvas()\n",
    "hgg_plot_sig.Draw()\n",
    "c4.Draw()"
   ]
  },
  {
   "cell_type": "markdown",
   "metadata": {},
   "source": [
    "As you can see the position of the peak changes as a function of MH, and also a function of the nuisance parameter. In combine the user can encode any dependence of the shape of the PDF's on the model parameters.\n",
    "\n",
    "Now lets try to draw the combined Signal+Background PDF:"
   ]
  },
  {
   "cell_type": "code",
   "execution_count": null,
   "metadata": {
    "collapsed": false,
    "scrolled": true
   },
   "outputs": [],
   "source": [
    "w_hgg.var(\"MH\").setVal(125.0)\n",
    "w_hgg.var(\"CMS_hgg_globalscale\").setVal(0.0)\n",
    "\n",
    "hgg_plot = CMS_hgg_mass.frame()\n",
    "pdf_bincat0 = w_hgg.pdf(\"pdf_bincat0\")\n",
    "\n",
    "data_cat0 = data_obs.reduce(ROOT.RooFit.Cut(\"CMS_channel==CMS_channel::cat0\"))\n",
    "data_cat0.plotOn(hgg_plot)\n",
    "\n",
    "\n",
    "pdf_bincat0.plotOn(hgg_plot,ROOT.RooFit.ProjWData(data_cat0,True),ROOT.RooFit.LineColor(2))\n",
    "w_hgg.var(\"r\").setVal(5.0)\n",
    "pdf_bincat0.plotOn(hgg_plot,ROOT.RooFit.ProjWData(data_cat0,True),ROOT.RooFit.LineColor(3))\n",
    "\n",
    "c5 = ROOT.TCanvas()\n",
    "hgg_plot.Draw()\n",
    "c5.Draw()"
   ]
  },
  {
   "cell_type": "markdown",
   "metadata": {},
   "source": [
    "As you can see, the total signal+background PDF can now be drawn for any value of the model parameters. In this case we have drawn the total PDF for different values of the signal strength (r=1 and r=5).  "
   ]
  },
  {
   "cell_type": "markdown",
   "metadata": {},
   "source": [
    "# Asymptotic Limits"
   ]
  },
  {
   "cell_type": "markdown",
   "metadata": {},
   "source": [
    "Lets go through some of the basic functionality of Combine using the H->gamma gamma workspace. We will start with Asymptotic limits. Lets start by computing the expected and observed limit for m(H) = 125 GeV. You will need to switch to the terminal and run the following command: "
   ]
  },
  {
   "cell_type": "raw",
   "metadata": {},
   "source": [
    "%%bash\n",
    "source ../../env_standalone.sh\n",
    "combine -n LimitTest -m 125 -M Asymptotic hgg_8TeV_MVA_cat0145.root --run both > limit125.txt"
   ]
  },
  {
   "cell_type": "markdown",
   "metadata": {},
   "source": [
    "The \"-n\" gives the output root file a custom name. \n",
    "The \"-m\" sets the value of \"MH\" in the workspace, and also changes the name of the output root file.\n",
    "The \"-M\" option tells combine the stastical method, in this case Asymptotic Limits.\n",
    "The \"hgg_8TeV_MVA_cat0145.root\" is the input workspace\n",
    "The option \"--run both\" tells combine to run both expected and observed limits. \n",
    "\n",
    "You should get an output like this:"
   ]
  },
  {
   "cell_type": "code",
   "execution_count": null,
   "metadata": {
    "collapsed": false
   },
   "outputs": [],
   "source": [
    "os.system('cat limit125.txt')"
   ]
  },
  {
   "cell_type": "markdown",
   "metadata": {},
   "source": [
    "You can see we have computed an observed limit on r, and also the nominal expected, and +/- 1 and 2 sigma expected limits. These results are also stored in an output .root file. Lets look at the file and see whats inside:"
   ]
  },
  {
   "cell_type": "code",
   "execution_count": null,
   "metadata": {
    "collapsed": false
   },
   "outputs": [],
   "source": [
    "f_hgg_limit_125 = ROOT.TFile(\"higgsCombineLimitTest.Asymptotic.mH125.root\")\n",
    "f_hgg_limit_125.ls()"
   ]
  },
  {
   "cell_type": "markdown",
   "metadata": {},
   "source": [
    "There is a TTree called limit which keeps the results of the limit computation. Lets look at it:"
   ]
  },
  {
   "cell_type": "code",
   "execution_count": null,
   "metadata": {
    "collapsed": false
   },
   "outputs": [],
   "source": [
    "limit = f_hgg_limit_125.Get(\"limit\")\n",
    "for i in xrange(limit.GetEntries()):\n",
    "    limit.GetEntry(i)\n",
    "    print i,limit.mh,limit.limit"
   ]
  },
  {
   "cell_type": "markdown",
   "metadata": {},
   "source": [
    "So you can see that the entries 0-4 are the expected limit and entry 5 is the observed limit. \n",
    "\n",
    "We can run similar commands for a range of mass values using a simple script and then make a limit plot from the results. Here is such a script to run the limits:"
   ]
  },
  {
   "cell_type": "code",
   "execution_count": null,
   "metadata": {
    "collapsed": false
   },
   "outputs": [],
   "source": [
    "os.system('cat run_hgg_asymptotic.sh')"
   ]
  },
  {
   "cell_type": "markdown",
   "metadata": {},
   "source": [
    "Lets execute this script..."
   ]
  },
  {
   "cell_type": "raw",
   "metadata": {},
   "source": [
    "%%bash\n",
    "source ../../env_standalone.sh\n",
    "chmod u+x run_hgg_asymptotic.sh\n",
    "./run_hgg_asymptotic.sh"
   ]
  },
  {
   "cell_type": "markdown",
   "metadata": {},
   "source": [
    "<b><span style=\"color:red\">Q: This should take ~3 minutes and you should end up with a bunch of .root files and .txt files for different masses in a folder called results_hgg_asymptotic. Take a look and see what is there, what do the root files contain? </span></b> \n",
    "\n",
    "Here is an example of a simple script to plot the results:"
   ]
  },
  {
   "cell_type": "code",
   "execution_count": null,
   "metadata": {
    "collapsed": false
   },
   "outputs": [],
   "source": [
    "\n",
    "\n",
    "# create some arrays to hold the results values\n",
    "mass = array('d',[])\n",
    "zeros = array('d',[])\n",
    "exp_p2 = array('d',[])\n",
    "exp_p1 = array('d',[])\n",
    "exp = array('d',[])\n",
    "exp_m1 = array('d',[])\n",
    "exp_m2 = array('d',[])\n",
    "obs = array('d',[])\n",
    "\n",
    "# gather all the results files and sort the mass values\n",
    "sortedmass = []\n",
    "files=glob.glob(\"results_hgg_asymptotic/higgsCombineLimitTest.Asymptotic.mH*.root\")\n",
    "for afile in files:\n",
    "    m = afile.split('mH')[1].replace('.root','')\n",
    "    sortedmass.append(float(m))\n",
    "sortedmass.sort()\n",
    "\n",
    "# loop over the mass values and fill the arrays\n",
    "for m in sortedmass:\n",
    "    # mass value\n",
    "    mass.append(m)\n",
    "    # get the limit tree for this mass value\n",
    "    f = ROOT.TFile(\"results_hgg_asymptotic/higgsCombineLimitTest.Asymptotic.mH\"+str(m).replace('.0','')+\".root\",\"READ\")\n",
    "    t = f.Get(\"limit\")\n",
    "    # expected limit\n",
    "    t.GetEntry(2)\n",
    "    thisexp = t.limit\n",
    "    exp.append(thisexp)\n",
    "    #-2 sigma\n",
    "    t.GetEntry(0)\n",
    "    exp_m2.append(thisexp-t.limit)\n",
    "    #-1 sigma\n",
    "    t.GetEntry(1)\n",
    "    exp_m1.append(thisexp-t.limit)\n",
    "    #+1 sigma \n",
    "    t.GetEntry(3)\n",
    "    exp_p1.append(t.limit-thisexp)\n",
    "    #+2 sigma\n",
    "    t.GetEntry(4)\n",
    "    exp_p2.append(t.limit-thisexp)\n",
    "    # observed limit\n",
    "    t.GetEntry(5)\n",
    "    obs.append(t.limit)\n",
    "    # dummy array with 0.0 (for mass-uncertainty)\n",
    "    zeros.append(0.0)\n",
    "\n",
    "# convert arrays to TVectorD\n",
    "v_mass = ROOT.TVectorD(len(mass),mass)\n",
    "v_zeros = ROOT.TVectorD(len(zeros),zeros)\n",
    "v_exp_p2 = ROOT.TVectorD(len(exp_p2),exp_p2)\n",
    "v_exp_p1 = ROOT.TVectorD(len(exp_p1),exp_p1)\n",
    "v_exp = ROOT.TVectorD(len(exp),exp)\n",
    "v_exp_m1 = ROOT.TVectorD(len(exp_m1),exp_m1)\n",
    "v_exp_m2 = ROOT.TVectorD(len(exp_m2),exp_m2)\n",
    "v_obs = ROOT.TVectorD(len(obs),obs)\n",
    "\n",
    "#new canvas\n",
    "\n",
    "c6 = ROOT.TCanvas(\"c6\",\"c6\",800,800)\n",
    "c6.SetGridx()\n",
    "c6.SetGridy()\n",
    "c6.SetRightMargin(0.06)\n",
    "c6.SetLeftMargin(0.2)\n",
    "\n",
    "# dummy historgram for axes labels, ranges, etc.\n",
    "dummy = ROOT.TH1D(\"\",\"\", 1, 115,145)\n",
    "dummy.SetBinContent(1,0.0)\n",
    "dummy.GetXaxis().SetTitle('m(H) [GeV]')\n",
    "dummy.GetYaxis().SetTitle('#sigma / #sigma(SM)')\n",
    "dummy.SetLineColor(0)\n",
    "dummy.SetLineWidth(0)\n",
    "dummy.SetFillColor(0)\n",
    "dummy.SetMinimum(0.0)\n",
    "dummy.SetMaximum(5.0)\n",
    "dummy.Draw()\n",
    "\n",
    "gr_exp2 = ROOT.TGraphAsymmErrors(v_mass,v_exp,v_zeros,v_zeros,v_exp_m2,v_exp_p2)\n",
    "gr_exp2.SetLineColor(ROOT.kYellow)\n",
    "gr_exp2.SetFillColor(ROOT.kYellow)\n",
    "gr_exp2.Draw(\"e3same\")\n",
    "\n",
    "gr_exp1 = ROOT.TGraphAsymmErrors(v_mass,v_exp,v_zeros,v_zeros,v_exp_m1,v_exp_p1)\n",
    "gr_exp1.SetLineColor(ROOT.kGreen)\n",
    "gr_exp1.SetFillColor(ROOT.kGreen)\n",
    "gr_exp1.Draw(\"e3same\")\n",
    "\n",
    "gr_exp = ROOT.TGraphAsymmErrors(v_mass,v_exp,v_zeros,v_zeros,v_zeros,v_zeros)\n",
    "gr_exp.SetLineColor(1)\n",
    "gr_exp.SetLineWidth(2)\n",
    "gr_exp.SetLineStyle(2)\n",
    "gr_exp.Draw(\"Lsame\")\n",
    "\n",
    "gr_obs = ROOT.TGraphAsymmErrors(v_mass,v_obs,v_zeros,v_zeros,v_zeros,v_zeros)\n",
    "gr_obs.SetLineColor(1)\n",
    "gr_obs.SetLineWidth(2)\n",
    "gr_obs.Draw(\"CPsame\")\n",
    "\n",
    "latex2 = ROOT.TLatex()\n",
    "latex2.SetNDC()\n",
    "latex2.SetTextSize(0.5*c6.GetTopMargin())\n",
    "latex2.SetTextFont(42)\n",
    "latex2.SetTextAlign(31) # align right                                                                                             \n",
    "latex2.DrawLatex(0.87, 0.95,\"19.6 fb^{-1} (8 TeV)\")\n",
    "latex2.SetTextSize(0.9*c6.GetTopMargin())\n",
    "latex2.SetTextFont(62)\n",
    "latex2.SetTextAlign(11) # align right                                                                                             \n",
    "latex2.DrawLatex(0.25, 0.85, \"CMS\")\n",
    "latex2.SetTextSize(0.7*c6.GetTopMargin())\n",
    "latex2.SetTextFont(52)\n",
    "latex2.SetTextAlign(11)\n",
    "latex2.DrawLatex(0.25, 0.8, \"Tutorial\")\n",
    "\n",
    "legend = ROOT.TLegend(.60,.70,.90,.90)\n",
    "legend.AddEntry(gr_obs , \"Observed 95% CL\", \"l\")\n",
    "legend.AddEntry(gr_exp , \"Expected 95% CL\", \"l\")\n",
    "legend.AddEntry(gr_exp1 , \"#pm 1#sigma\", \"f\")\n",
    "legend.AddEntry(gr_exp2 , \"#pm 2#sigma\", \"f\")\n",
    "legend.SetShadowColor(0)\n",
    "legend.SetFillColor(0)\n",
    "legend.SetLineColor(0)\n",
    "legend.Draw(\"same\")\n",
    "\n",
    "ROOT.gPad.RedrawAxis()\n",
    "\n",
    "c6.Draw()\n"
   ]
  },
  {
   "cell_type": "markdown",
   "metadata": {},
   "source": [
    "# Comparing limit Calculations"
   ]
  },
  {
   "cell_type": "markdown",
   "metadata": {},
   "source": [
    "In addition to the Asymptotic calculations, there are two other ways to calculate the limits\n",
    "\n",
    "1) CLs using toys \n",
    "\n",
    "2) Bayesian limits\n",
    "\n",
    "For many cases, these two will typically agree, both in fact use the same definition of the likelihood. The treatment of the systematics is subtley different between the two, however, which can lead to differences. In the first, the nuisance parameters are *profiled* in the evaluation of the likelihood while for the second, the nuisances are *marginalised* (integrated over).\n",
    "\n",
    "Lets see how the two compare for our simple counting experiment analysis"
   ]
  },
  {
   "cell_type": "markdown",
   "metadata": {},
   "source": [
    "<b>*1) CLs from toys*</b>\n",
    "\n",
    "The quantity CLs is calculated from the ratio of two p-values.\n",
    "\n",
    "CLs+b (or pmu)...\n",
    "\n",
    "![alt text](clsb.png)\n",
    "\n",
    "and CLb (or 1-pb)\n",
    "\n",
    "![alt text](clb.png)\n",
    "\n",
    "and CLs = CLs+b/CLb\n",
    "\n",
    "These are tail probabilities of the distribution (f) of our test statistic under the hypothesis of a signal + background (CLs+b) and the hypothesis of no signal (CLb). We can obtain these distributions by generating toy data.\n",
    "\n",
    "\n",
    "Lets do this for a single value of the signal multiplier r=1\n"
   ]
  },
  {
   "cell_type": "code",
   "execution_count": null,
   "metadata": {
    "collapsed": false
   },
   "outputs": [],
   "source": [
    "%%bash\n",
    "source ../../env_standalone.sh\n",
    "combine simple-counting-experiment.root -n LimitToys_r1 -M HybridNew -T 5000 --fullB --singlePoint r=1 --clsAcc 0 --saveHybridResult --freq"
   ]
  },
  {
   "cell_type": "markdown",
   "metadata": {},
   "source": [
    "Now, lets look at the distributions. There is a script to help you do this "
   ]
  },
  {
   "cell_type": "code",
   "execution_count": null,
   "metadata": {
    "collapsed": false
   },
   "outputs": [],
   "source": [
    "%%bash\n",
    "source ../../env_standalone.sh\n",
    "python ../../test/plotTestStatCLs.py -i higgsCombineLimitToys_r1.HybridNew.mH120.root -m 120 -v all"
   ]
  },
  {
   "cell_type": "code",
   "execution_count": null,
   "metadata": {
    "collapsed": false
   },
   "outputs": [],
   "source": [
    "fi_toys  = ROOT.TFile.Open(\"cls_qmu_distributions.root\")\n",
    "canv = fi_toys.Get(\"qmu_120.0_1\")\n",
    "canv.Draw()"
   ]
  },
  {
   "cell_type": "markdown",
   "metadata": {},
   "source": [
    "You might have expected to see Gaussian distributions here but this is a result of our choice of test-statistic qmu (the LHC one). You can try the same but remove the option `--freq` from the HybridNew command\n",
    "\n",
    "\n",
    "To get a limit on the signal strength, we need to calculate the value of CLs for different values of \"r\" and find the value for which the value of CLs hits our threshold. For 95% limits, this is 0.05. We'll let combine do this for us by removing the `--singlePoint` command and the `--clsAcc 0`. Removing the last option tells combine to keep throwing toys to reach a certain accuracy on the limit. "
   ]
  },
  {
   "cell_type": "code",
   "execution_count": null,
   "metadata": {
    "collapsed": false
   },
   "outputs": [],
   "source": [
    "%%bash\n",
    "source ../../env_standalone.sh\n",
    "combine simple-counting-experiment.root -n LimitToys_all -m 125 -M HybridNew --rMax 2 --freq"
   ]
  },
  {
   "cell_type": "markdown",
   "metadata": {},
   "source": [
    "<b><span style=\"color:red\">Q: What is the result from the Asymptotic calculation? Does it agree?</span></b>"
   ]
  },
  {
   "cell_type": "markdown",
   "metadata": {},
   "source": [
    "<b>*2) Bayesian Limits*</b>\n",
    "\n",
    "Next, we can check the result of the Bayesian calculation for the limit. This time, rather than generating toys, the goal is to determine the posterior distribtution of \"r\" or \"mu\" using Bayes' theorem ...\n",
    "This is essentially using Bayes' theorem to remove the nuisance parameters ...\n",
    "\n",
    "![alt text](bayes.png)\n",
    "\n",
    "The complication is that in order to remove the nuisance parameters from the posterior, one must integrate over them (called marginalisation).\n",
    "\n",
    "The following will do this for us using a Markov Chain MC integration. "
   ]
  },
  {
   "cell_type": "code",
   "execution_count": null,
   "metadata": {
    "collapsed": false
   },
   "outputs": [],
   "source": [
    "%%bash\n",
    "source ../../env_standalone.sh\n",
    "\n",
    "combine simple-counting-experiment.root -M MarkovChainMC -n Limit_Bayes --noDefaultPrior 0 --saveChain"
   ]
  },
  {
   "cell_type": "markdown",
   "metadata": {},
   "source": [
    "We can plot the chains from the output file using a bit of RooFit. "
   ]
  },
  {
   "cell_type": "code",
   "execution_count": null,
   "metadata": {
    "collapsed": false
   },
   "outputs": [],
   "source": [
    "fi_ws = ROOT.TFile.Open(\"simple-counting-experiment.root\")\n",
    "wspace = fi_ws.Get(\"w\")\n",
    "fi_MCMC = ROOT.TFile.Open(\"higgsCombineLimit_Bayes.MarkovChainMC.mH120.root\")\n",
    "\n",
    "# Sum up all of the chains / or could take the average limit\n",
    "mychain=0\n",
    "for k in fi_MCMC.Get(\"toys\").GetListOfKeys():\n",
    "    obj = k.ReadObj\n",
    "    if mychain ==0: \n",
    "        mychain = k.ReadObj().GetAsDataSet()\n",
    "    else :\n",
    "        mychain.append(k.ReadObj().GetAsDataSet())\n",
    "        \n",
    "wspace.var(\"r\").setMax(2)\n",
    "plot = wspace.var(\"r\").frame()\n",
    "mychain.plotOn(plot)\n",
    "c6a = ROOT.TCanvas()\n",
    "plot.Draw()\n",
    "c6a.Draw()"
   ]
  },
  {
   "cell_type": "markdown",
   "metadata": {},
   "source": [
    "<b><span style=\"color:red\">Q: Where does the value for the limit come from? How can the above be turned into a posterior?) </span></b>\n",
    "\n",
    "<b><span style=\"color:red\">Q: We assumed a *flat* prior on r. What about a prior that 1/sqrt(r) is flat? (add `--prior '1./sqrt(r)'`) </span></b>"
   ]
  },
  {
   "cell_type": "markdown",
   "metadata": {},
   "source": [
    "# Computing Significance"
   ]
  },
  {
   "cell_type": "markdown",
   "metadata": {},
   "source": [
    "Now lets compute the expected and observed significance of the signal as a function of m(H). For the expected significance, this can be done for mH = 125 GeV by running the following command:"
   ]
  },
  {
   "cell_type": "code",
   "execution_count": null,
   "metadata": {
    "collapsed": true
   },
   "outputs": [],
   "source": [
    "%%bash\n",
    "source ../../env_standalone.sh\n",
    "\n",
    "combine -n SignifExp -M ProfileLikelihood --signif -m 125 hgg_8TeV_MVA_cat0145.root -t -1 --expectSignal=1 --pvalue > results_hgg_pvalue/expsignif125.txt"
   ]
  },
  {
   "cell_type": "markdown",
   "metadata": {},
   "source": [
    "You should end up with the following output:"
   ]
  },
  {
   "cell_type": "code",
   "execution_count": null,
   "metadata": {
    "collapsed": false
   },
   "outputs": [],
   "source": [
    "os.system('cat results_hgg_pvalue/expsignif125.txt')"
   ]
  },
  {
   "cell_type": "markdown",
   "metadata": {},
   "source": [
    "For the observed, we just remove the \"-t -1 --expectSignal=1\":"
   ]
  },
  {
   "cell_type": "code",
   "execution_count": null,
   "metadata": {
    "collapsed": true
   },
   "outputs": [],
   "source": [
    "%%bash\n",
    "source ../../env_standalone.sh\n",
    "\n",
    "combine -n SignifExp -M ProfileLikelihood --signif -m 125 hgg_8TeV_MVA_cat0145.root --pvalue > results_hgg_pvalue/signif125.txt"
   ]
  },
  {
   "cell_type": "code",
   "execution_count": null,
   "metadata": {
    "collapsed": false
   },
   "outputs": [],
   "source": [
    "%%bash \n",
    "cat results_hgg_pvalue/obssignif125.txt"
   ]
  },
  {
   "cell_type": "markdown",
   "metadata": {},
   "source": [
    "So we observe a little less signal than we expected. Lets plot the observed and expected significance as a function of mH. Here is a script to run the command for each mass point:"
   ]
  },
  {
   "cell_type": "code",
   "execution_count": null,
   "metadata": {
    "collapsed": false
   },
   "outputs": [],
   "source": [
    "%%bash \n",
    "cat run_hgg_pvalue.sh"
   ]
  },
  {
   "cell_type": "markdown",
   "metadata": {},
   "source": [
    "You can run it by doing:"
   ]
  },
  {
   "cell_type": "code",
   "execution_count": null,
   "metadata": {
    "collapsed": true
   },
   "outputs": [],
   "source": [
    "%%bash\n",
    "source ../../env_standalone.sh\n",
    "\n",
    "chmod u+x run_hgg_pvalue.sh\n",
    "./run_hgg_pvalue.sh"
   ]
  },
  {
   "cell_type": "markdown",
   "metadata": {},
   "source": [
    "Again you will end up with a bunch of .txt and .root files in the folder results_hgg_pvalue. \n",
    "\n",
    "Here is an example script to plot the results:"
   ]
  },
  {
   "cell_type": "code",
   "execution_count": null,
   "metadata": {
    "collapsed": false
   },
   "outputs": [],
   "source": [
    "unsortedmass = []\n",
    "\n",
    "mass = array('d',[])\n",
    "zeros = array('d',[])\n",
    "exp = array('d',[])\n",
    "obs = array('d',[])\n",
    "\n",
    "files=glob.glob(\"results_hgg_pvalue/higgsCombineSignifExp.ProfileLikelihood.mH*.root\")\n",
    "for afile in files:\n",
    "    m = afile.split('mH')[1].replace('.root','')\n",
    "    unsortedmass.append(float(m))\n",
    "unsortedmass.sort()\n",
    "\n",
    "for m in unsortedmass:\n",
    "    # mass value\n",
    "    mass.append(m)\n",
    "    # get the expected p-value\n",
    "    f_exp = ROOT.TFile(\"results_hgg_pvalue/higgsCombineSignifExp.ProfileLikelihood.mH\"+str(m).replace('.0','')+\".root\",\"READ\")\n",
    "    t_exp = f_exp.Get(\"limit\")\n",
    "    t_exp.GetEntry(0)\n",
    "    exp.append(t_exp.limit)\n",
    "    # get the observed p-value\n",
    "    f_obs = ROOT.TFile(\"results_hgg_pvalue/higgsCombineSignifObs.ProfileLikelihood.mH\"+str(m).replace('.0','')+\".root\",\"READ\")\n",
    "    t_obs = f_obs.Get(\"limit\")\n",
    "    t_obs.GetEntry(0)\n",
    "    obs.append(t_obs.limit)\n",
    "    # dummy, for mass error\n",
    "    zeros.append(0.0)\n",
    "\n",
    "# convert array to TVector\n",
    "v_mass = ROOT.TVectorD(len(mass),mass)\n",
    "v_zeros = ROOT.TVectorD(len(zeros),zeros)\n",
    "v_exp = ROOT.TVectorD(len(exp),exp)\n",
    "v_obs = ROOT.TVectorD(len(obs),obs)\n",
    "# new canvas\n",
    "c7 = ROOT.TCanvas(\"c7\",\"c7\",800, 800)\n",
    "c7.SetLogy()\n",
    "c7.SetRightMargin(0.06)\n",
    "c7.SetLeftMargin(0.2)\n",
    "# dummy histogram, for axis labels, ranges, etc.\n",
    "dummy = ROOT.TH1D(\"\",\"\", 1, 115,145)\n",
    "dummy.SetBinContent(1,0.0)\n",
    "dummy.GetXaxis().SetTitle('m(H) [GeV]')\n",
    "dummy.GetYaxis().SetTitle('Local p-value')\n",
    "dummy.SetLineColor(0)\n",
    "dummy.SetLineWidth(0)\n",
    "dummy.SetFillColor(0)\n",
    "dummy.SetMinimum(0.0001)\n",
    "dummy.SetMaximum(1.0)\n",
    "dummy.Draw()\n",
    "\n",
    "# Draw some lines corresponding to 1,2,3 sigma \n",
    "latexf = ROOT.TLatex()\n",
    "latexf.SetTextSize(0.4*c7.GetTopMargin())\n",
    "latexf.SetTextColor(2)\n",
    "f1 = ROOT.TF1(\"f1\",\"0.15866\",115,145)\n",
    "f1.SetLineColor(2)\n",
    "f1.SetLineWidth(2)\n",
    "f1.Draw(\"lsame\")\n",
    "latexf.DrawLatex(116, 0.15866*1.1,\"1#sigma\")\n",
    "f2 = ROOT.TF1(\"f1\",\"0.02275\",115,145)\n",
    "f2.SetLineColor(2)\n",
    "f2.SetLineWidth(2)\n",
    "f2.Draw(\"lsame\")\n",
    "latexf.DrawLatex(116, 0.02275*1.1,\"2#sigma\")\n",
    "f3 = ROOT.TF1(\"f1\",\"0.0013499\",115,145)\n",
    "f3.SetLineColor(2)\n",
    "f3.SetLineWidth(2)\n",
    "f3.Draw(\"lsame\")\n",
    "latexf.DrawLatex(116, 0.0013499*1.1,\"3#sigma\")\n",
    "\n",
    "# Draw the expected p-value graph\n",
    "gr_exp = ROOT.TGraphAsymmErrors(v_mass,v_exp,v_zeros,v_zeros,v_zeros,v_zeros)\n",
    "gr_exp.SetLineColor(4)\n",
    "gr_exp.SetLineWidth(2)\n",
    "gr_exp.SetLineStyle(2)\n",
    "gr_exp.Draw(\"Lsame\")\n",
    "# Draw the observed p-value graph\n",
    "gr_obs = ROOT.TGraphAsymmErrors(v_mass,v_obs,v_zeros,v_zeros,v_zeros,v_zeros)\n",
    "gr_obs.SetLineColor(1)\n",
    "gr_obs.SetLineWidth(2)\n",
    "gr_obs.Draw(\"CPsame\")\n",
    "\n",
    "latex2 = ROOT.TLatex()\n",
    "latex2.SetNDC()\n",
    "latex2.SetTextSize(0.5*c7.GetTopMargin())\n",
    "latex2.SetTextFont(42)\n",
    "latex2.SetTextAlign(31) # align right                                                                                                                              \n",
    "latex2.DrawLatex(0.87, 0.95,\"19.6 fb^{-1} (8 TeV)\")\n",
    "latex2.SetTextSize(0.7*c7.GetTopMargin())\n",
    "latex2.SetTextFont(62)\n",
    "latex2.SetTextAlign(11) # align right                                                                                                                              \n",
    "latex2.DrawLatex(0.20, 0.95, \"CMS\")\n",
    "latex2.SetTextSize(0.6*c7.GetTopMargin())\n",
    "latex2.SetTextFont(52)\n",
    "latex2.SetTextAlign(11)\n",
    "latex2.DrawLatex(0.32, 0.95, \"Tutorial\")\n",
    "\n",
    "c7.Draw()"
   ]
  },
  {
   "cell_type": "markdown",
   "metadata": {},
   "source": [
    "# Maximum Likelihood Fits"
   ]
  },
  {
   "cell_type": "markdown",
   "metadata": {},
   "source": [
    "Suppose now that we want to measure the signal strength at M(H)=125 GeV. We can use the MaxLikelihoodFit and MultiDimFit (maximum likelihood fit for an arbitrary number of POIs) methods.\n",
    "\n",
    "We can get the best fit for the signal strength by running this command:"
   ]
  },
  {
   "cell_type": "code",
   "execution_count": null,
   "metadata": {
    "collapsed": true
   },
   "outputs": [],
   "source": [
    "%%bash\n",
    "source ../../env_standalone.sh\n",
    "\n",
    "combine -M MaxLikelihoodFit -m 125 hgg_8TeV_MVA_cat0145.root"
   ]
  },
  {
   "cell_type": "markdown",
   "metadata": {},
   "source": [
    "We can also create likelihood scans by manually defining a range for the POI and computing the deltaNLL at each point.\n",
    "What we are calculating is known as the profile likelihood (which is very similar to our test statistic qmu from before)\n",
    "\n",
    "![alt text](profilelh.png)\n",
    "\n",
    "\n",
    "Lets do it for both the expected and observed:"
   ]
  },
  {
   "cell_type": "code",
   "execution_count": null,
   "metadata": {
    "collapsed": false
   },
   "outputs": [],
   "source": [
    "%%bash\n",
    "source ../../env_standalone.sh\n",
    "\n",
    "combine -n Obs -M MultiDimFit -m 125 hgg_8TeV_MVA_cat0145.root --algo=grid --points 15 --setPhysicsModelParameterRanges r=0.0,3.0"
   ]
  },
  {
   "cell_type": "code",
   "execution_count": null,
   "metadata": {
    "collapsed": false
   },
   "outputs": [],
   "source": [
    "%%bash\n",
    "source ../../env_standalone.sh\n",
    "\n",
    "combine -n Exp -M MultiDimFit -m 125 hgg_8TeV_MVA_cat0145.root --algo=grid --points 15 --setPhysicsModelParameterRanges r=0.0,3.0 -t -1 --expectSignal=1 "
   ]
  },
  {
   "cell_type": "markdown",
   "metadata": {},
   "source": [
    "Here is an example script to plot the scans:"
   ]
  },
  {
   "cell_type": "code",
   "execution_count": null,
   "metadata": {
    "collapsed": false
   },
   "outputs": [],
   "source": [
    "# create arrays\n",
    "\n",
    "r_exp = array('d',[])\n",
    "nll_exp = array('d',[])\n",
    "r_obs = array('d',[])\n",
    "nll_obs = array('d',[])\n",
    "zeros = array('d',[])\n",
    "# get expected scan\n",
    "f_exp = ROOT.TFile(\"higgsCombineExp.MultiDimFit.mH125.root\",\"READ\")\n",
    "t_exp = f_exp.Get(\"limit\")\n",
    "for i in xrange(1,t_exp.GetEntries()):\n",
    "    t_exp.GetEntry(i)\n",
    "    r_exp.append(t_exp.r)\n",
    "    nll_exp.append(2.0*t_exp.deltaNLL)\n",
    "# get observed scan\n",
    "f_obs = ROOT.TFile(\"higgsCombineObs.MultiDimFit.mH125.root\",\"READ\")\n",
    "t_obs = f_obs.Get(\"limit\")\n",
    "for i in xrange(1,t_obs.GetEntries()):\n",
    "    t_obs.GetEntry(i)\n",
    "    r_obs.append(t_obs.r)\n",
    "    nll_obs.append(2.0*t_obs.deltaNLL)\n",
    "    zeros.append(0.0)\n",
    "# convert arrays to TVectorD\n",
    "v_r_exp = ROOT.TVectorD(len(r_exp),r_exp)\n",
    "v_r_obs = ROOT.TVectorD(len(r_obs),r_obs)\n",
    "v_nll_exp = ROOT.TVectorD(len(nll_exp),nll_exp)\n",
    "v_nll_obs = ROOT.TVectorD(len(nll_obs),nll_obs)\n",
    "v_zeros = ROOT.TVectorD(len(zeros),zeros)\n",
    "# new canvas\n",
    "c9 = ROOT.TCanvas(\"c9\",\"c9\",800, 800)\n",
    "c9.SetRightMargin(0.06)\n",
    "c9.SetLeftMargin(0.2)\n",
    "# dummy for axis labels, ranges, etc.\n",
    "dummy = ROOT.TH1D(\"\",\"\", 1, 0.0,3.0)\n",
    "dummy.SetBinContent(1,0.0)\n",
    "dummy.GetXaxis().SetTitle('#sigma/#sigma_{SM}')\n",
    "dummy.GetYaxis().SetTitle('-2 #Delta lnL')\n",
    "dummy.SetLineColor(0)\n",
    "dummy.SetLineWidth(0)\n",
    "dummy.SetFillColor(0)\n",
    "dummy.SetMinimum(0.0)\n",
    "dummy.SetMaximum(5.0)\n",
    "dummy.Draw()\n",
    "# Draw some lines for 68% CL and 95% CL\n",
    "latexf = ROOT.TLatex()\n",
    "latexf.SetTextSize(0.4*c9.GetTopMargin())\n",
    "latexf.SetTextColor(2)\n",
    "f1 = ROOT.TF1(\"f1\",\"1.0\",0.0,3.0)\n",
    "f1.SetLineColor(2)\n",
    "f1.SetLineWidth(2)\n",
    "f1.Draw(\"lsame\")\n",
    "latexf.DrawLatex(2.5, 1.1,\"68% CL\")\n",
    "f2 = ROOT.TF1(\"f1\",\"3.84\",0.0,3.0)\n",
    "f2.SetLineColor(2)\n",
    "f2.SetLineWidth(2)\n",
    "f2.Draw(\"lsame\")\n",
    "latexf.DrawLatex(2.5, 3.94,\"95% CL\")\n",
    "# draw expected scan\n",
    "gr_exp = ROOT.TGraphAsymmErrors(v_r_exp,v_nll_exp,v_zeros,v_zeros,v_zeros,v_zeros)\n",
    "gr_exp.SetLineColor(1)\n",
    "gr_exp.SetLineWidth(2)\n",
    "gr_exp.SetLineStyle(2)\n",
    "gr_exp.Draw(\"Lsame\")\n",
    "# draw observed scan\n",
    "gr_obs = ROOT.TGraphAsymmErrors(v_r_obs,v_nll_obs,v_zeros,v_zeros,v_zeros,v_zeros)\n",
    "gr_obs.SetLineColor(1)\n",
    "gr_obs.SetLineColor(1)\n",
    "gr_obs.SetLineWidth(2)\n",
    "gr_obs.Draw(\"Lsame\")\n",
    "\n",
    "latex2 = ROOT.TLatex()\n",
    "latex2.SetNDC()\n",
    "latex2.SetTextSize(0.5*c9.GetTopMargin())\n",
    "latex2.SetTextFont(42)\n",
    "latex2.SetTextAlign(31) # align right                                                                                                                              \n",
    "latex2.DrawLatex(0.87, 0.95,\"19.6 fb^{-1} (8 TeV)\")\n",
    "latex2.SetTextSize(0.7*c9.GetTopMargin())\n",
    "latex2.SetTextFont(62)\n",
    "latex2.SetTextAlign(11) # align right                                                                                                                              \n",
    "latex2.DrawLatex(0.20, 0.95, \"CMS\")\n",
    "latex2.SetTextSize(0.6*c9.GetTopMargin())\n",
    "latex2.SetTextFont(52)\n",
    "latex2.SetTextAlign(11)\n",
    "latex2.DrawLatex(0.32, 0.95, \"Tutorial\")\n",
    "\n",
    "legend = ROOT.TLegend(.60,.14,.90,.26)\n",
    "legend.AddEntry(gr_obs , \"Observed\", \"l\")\n",
    "legend.AddEntry(gr_exp , \"Expected\", \"l\")\n",
    "legend.SetShadowColor(0)\n",
    "legend.SetFillColor(0)\n",
    "legend.SetLineColor(0)\n",
    "legend.Draw(\"same\")\n",
    "\n",
    "ROOT.gPad.RedrawAxis()\n",
    "\n",
    "c9.Draw()\n"
   ]
  },
  {
   "cell_type": "markdown",
   "metadata": {},
   "source": [
    "<b><span style=\"color:red\">Q: What would the uncertainty in my signal strengh be in this case?</span></b>"
   ]
  },
  {
   "cell_type": "markdown",
   "metadata": {},
   "source": [
    "#  MultiDimensional Scans"
   ]
  },
  {
   "cell_type": "markdown",
   "metadata": {},
   "source": [
    "Here we will create a 2D confidence interval for kV vs kF.\n",
    "\n",
    "kV scales the diagrams which involve a Higgs-vector boson coupling while kF scales the diagrams which involve a Higgs-fermion coupling (which ones are they?)\n",
    "\n",
    "first we build the model ... "
   ]
  },
  {
   "cell_type": "code",
   "execution_count": null,
   "metadata": {
    "collapsed": false
   },
   "outputs": [],
   "source": [
    "%%bash\n",
    "source ../../env_standalone.sh\n",
    "\n",
    "text2workspace.py hgg_8TeV_MVA_cat0145.txt -m 125.7  -P HiggsAnalysis.CombinedLimit.PhysicsModel:rVrFXSHiggs  -o rVrF_hgg.root"
   ]
  },
  {
   "cell_type": "markdown",
   "metadata": {},
   "source": [
    "and then we can run the fit using that model. We tell combine which ranges to scan over and how many points to run in the scan"
   ]
  },
  {
   "cell_type": "code",
   "execution_count": null,
   "metadata": {
    "collapsed": false
   },
   "outputs": [],
   "source": [
    "%%bash\n",
    "source ../../env_standalone.sh\n",
    "\n",
    "combine -M MultiDimFit rVrF_hgg.root -m 125 -n HggHttCvCf --algo=grid --points=100 --setPhysicsModelParameterRanges RF=-1,3:RV=-2,5"
   ]
  },
  {
   "cell_type": "markdown",
   "metadata": {},
   "source": [
    "Now lets make a plot of the result of the scan. The output tree contains the grid of points and the value of the log-likelihood, relative to that at the best fit point. This is what we can use to define 1 and 2 sigma contours. "
   ]
  },
  {
   "cell_type": "code",
   "execution_count": null,
   "metadata": {
    "collapsed": false
   },
   "outputs": [],
   "source": [
    "file_mdf = ROOT.TFile.Open(\"higgsCombineHggHttCvCf.MultiDimFit.mH125.root\")\n",
    "limit = file_mdf.Get(\"limit\")\n",
    "c10 = ROOT.TCanvas()\n",
    "limit.Draw(\"RV:RF>>h2\",\"2*deltaNLL*(deltaNLL >= 0)\",\"COL\");\n",
    "c10.Draw()"
   ]
  },
  {
   "cell_type": "markdown",
   "metadata": {},
   "source": [
    "<b><span style=\"color:red\">Q: Now add the 1/2-sigma contours to the plot. </span></b>\n"
   ]
  },
  {
   "cell_type": "markdown",
   "metadata": {},
   "source": [
    "# Channel Compatibility"
   ]
  },
  {
   "cell_type": "markdown",
   "metadata": {},
   "source": [
    "Lets now compute the best fit signal strength in each category, but with full correlation of all the nuisance parameters. In order to do that, switch to the terminal and run the following command:"
   ]
  },
  {
   "cell_type": "code",
   "execution_count": null,
   "metadata": {
    "collapsed": true
   },
   "outputs": [],
   "source": [
    "%%bash\n",
    "source ../../env_standalone.sh\n",
    "\n",
    "combine -M ChannelCompatibilityCheck hgg_8TeV_MVA_cat0145.root -m 125 --saveFitResult > ccc.txt"
   ]
  },
  {
   "cell_type": "markdown",
   "metadata": {},
   "source": [
    "You should get an output like this:"
   ]
  },
  {
   "cell_type": "code",
   "execution_count": null,
   "metadata": {
    "collapsed": false
   },
   "outputs": [],
   "source": [
    "os.system('cat ccc.txt')"
   ]
  },
  {
   "cell_type": "markdown",
   "metadata": {},
   "source": [
    "Here is a script to plot the results:"
   ]
  },
  {
   "cell_type": "code",
   "execution_count": null,
   "metadata": {
    "collapsed": false
   },
   "outputs": [],
   "source": [
    "import ROOT\n",
    "\n",
    "poi = \"r\"; rMax = 4\n",
    "infile=\"higgsCombineTest.ChannelCompatibilityCheck.mH125.root\"\n",
    "\n",
    "filein = ROOT.TFile(infile,\"READ\")\n",
    "fit_nominal = filein.Get(\"fit_nominal\");\n",
    "fit_alternate = filein.Get(\"fit_alternate\");\n",
    "rFit = fit_nominal.floatParsFinal().find(poi);\n",
    "\n",
    "prefix = \"_ChannelCompatibilityCheck_\"+poi+\"_\"\n",
    "\n",
    "nChann = 0;\n",
    "iter = fit_alternate.floatParsFinal().createIterator();\n",
    "\n",
    "while True:\n",
    "  a = iter.Next();\n",
    "  if a==None: break\n",
    "  if (prefix in a.GetName()): nChann+=1\n",
    "\n",
    "frame = ROOT.TH2F(\"frame\",\";best fit #sigma/#sigma(SM);\",1,rFit.getMin(),min(rFit.getMax(),rMax),nChann,0,nChann)\n",
    "\n",
    "iter.Reset();\n",
    "iChann = 0;\n",
    "points = ROOT.TGraphAsymmErrors(nChann)\n",
    "\n",
    "while True:\n",
    "  a = iter.Next();\n",
    "  if a==None: break\n",
    "  if (prefix in a.GetName()):\n",
    "    channel = a.GetName();\n",
    "    channel.replace(prefix,\"\")\n",
    "    points.SetPoint(iChann, a.getVal(), iChann+0.5);\n",
    "    points.SetPointError(iChann, -a.getAsymErrorLo(), a.getAsymErrorHi(), 0, 0);\n",
    "    iChann+=1;\n",
    "    frame.GetYaxis().SetBinLabel(iChann, channel.replace(prefix,\"\"));\n",
    "\n",
    "c8 = ROOT.TCanvas(\"c8\",\"c8\",800,800)\n",
    "c8.cd()                                                                                                                                \n",
    "c8.SetTopMargin(0.07)                                                                                                                  \n",
    "c8.SetBottomMargin(0.12)                                                                                                               \n",
    "c8.SetLeftMargin(0.12)                                                                                                                 \n",
    "                                                                                                                                      \n",
    "points.SetLineColor(ROOT.kRed);                                                                                                       \n",
    "points.SetLineWidth(3);                                                                                                               \n",
    "points.SetMarkerStyle(21);                                                                                                            \n",
    "frame.GetXaxis().SetTitleSize(0.05);                                                                                                  \n",
    "frame.GetXaxis().SetLabelSize(0.04);                                                                                                  \n",
    "frame.GetYaxis().SetLabelSize(0.06);                                                                                                  \n",
    "frame.Draw();                                                                                                                         \n",
    "ROOT.gStyle.SetOptStat(0);                                                                                                            \n",
    "globalFitBand = ROOT.TBox(rFit.getVal()+rFit.getAsymErrorLo(), 0, rFit.getVal()+rFit.getAsymErrorHi(), nChann);                       \n",
    "globalFitBand.SetFillColor(65);     \n",
    "globalFitBand.SetFillStyle(3003);                                                                                                       \n",
    "globalFitBand.SetLineStyle(0);                                                                                                        \n",
    "globalFitBand.Draw(\"SAME\");                                                                                                           \n",
    "globalFitLine = ROOT.TLine(rFit.getVal(), 0, rFit.getVal(), nChann);                                                                  \n",
    "globalFitLine.SetLineWidth(4);                                                                                                        \n",
    "globalFitLine.SetLineColor(214);                                                                                                      \n",
    "globalFitLine.Draw(\"SAME\");                                                                                                           \n",
    "points.Draw(\"P\");                                                                                                                \n",
    "                                                                                                                                      \n",
    "latex2 = ROOT.TLatex()                                                                                                                \n",
    "latex2.SetNDC()                                                                                                                       \n",
    "latex2.SetTextSize(0.5*c8.GetTopMargin())                                                                                              \n",
    "latex2.SetTextFont(42)                                                                                                                \n",
    "latex2.SetTextAlign(31) # align right                                                                                                 \n",
    "latex2.DrawLatex(0.87, 0.95,\"19.6 fb^{-1} (8 TeV)\")                                                                                   \n",
    "latex2.SetTextSize(0.7*c8.GetTopMargin())                                                                                              \n",
    "latex2.SetTextFont(62)                                                                                                                \n",
    "latex2.SetTextAlign(11) # align right                                                                                                 \n",
    "latex2.DrawLatex(0.15, 0.95, \"CMS\")                                                                                                   \n",
    "latex2.SetTextSize(0.6*c8.GetTopMargin())                                                                                              \n",
    "latex2.SetTextFont(52)                                                                                                                \n",
    "latex2.SetTextAlign(11)                                                                                                               \n",
    "latex2.DrawLatex(0.27, 0.95, \"Tutorial\")                                                                                              \n",
    "                                                                                                                                      \n",
    "ROOT.gPad.RedrawAxis()    \n",
    "c8.Update()\n",
    "c8.Draw()                  "
   ]
  },
  {
   "cell_type": "markdown",
   "metadata": {
    "collapsed": true
   },
   "source": [
    "<b><span style=\"color:red\">Q: Do you think the different measurements are compatible? How could we quantify how well this result agrees with what we might expect? </span></b>"
   ]
  }
 ],
 "metadata": {
  "kernelspec": {
   "display_name": "Python 2",
   "language": "python",
   "name": "python2"
  },
  "language_info": {
   "codemirror_mode": {
    "name": "ipython",
    "version": 2
   },
   "file_extension": ".py",
   "mimetype": "text/x-python",
   "name": "python",
   "nbconvert_exporter": "python",
   "pygments_lexer": "ipython2",
   "version": "2.7.10"
  }
 },
 "nbformat": 4,
 "nbformat_minor": 1
}
